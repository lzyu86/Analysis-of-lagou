{
 "cells": [
  {
   "cell_type": "markdown",
   "metadata": {},
   "source": [
    "# 拉勾-数据分析岗位分析\n",
    "作者：lzyu86（紫雨）"
   ]
  },
  {
   "cell_type": "markdown",
   "metadata": {},
   "source": [
    "# 目录\n",
    "1. 提出问题\n",
    "2. 理解数据\n",
    " * 采集数据\n",
    " * 导入数据\n",
    " * 查看数据集信息\n",
    "3. 数据清洗\n",
    " * 数据预处理\n",
    " * 特征值提取\n",
    "4. 数据可视化\n",
    " * 城市岗位分布\n",
    " * 行业分布\n",
    " * 工作经验需求分布\n",
    " * 薪资水平分布\n",
    " * 公司融资情况分布\n",
    " * 职业技能需求\n",
    " * 城市-薪资关系\n",
    " * 行业-薪资关系\n",
    " * 经验-薪资关系\n",
    " * 融资阶段-薪资关系\n",
    "5. 结论"
   ]
  },
  {
   "cell_type": "markdown",
   "metadata": {},
   "source": [
    "# 1.提出问题\n",
    "* 数据分析的岗位主要在哪些城市分布 \n",
    "* 数据分析的岗位在哪些行业中需求较大\n",
    "* 数据分析的岗位对工作经验的要求\n",
    "* 数据分析的岗位薪资水平如何\n",
    "* 数据分析的岗位在何种融资阶段的公司需求较大\n",
    "* 数据分析的岗位主要要求哪些职业技能\n",
    "* 数据分析的岗位中以上何种因素对薪资水平影响较大"
   ]
  },
  {
   "cell_type": "markdown",
   "metadata": {},
   "source": [
    "# 2.理解数据\n",
    "## 理解数据分为三部分：\n",
    "\n",
    "1）采集数据：根据提出的若干问题，自己编写爬虫，采集拉勾网-数据分析岗位的相关数据\n",
    "\n",
    "2）导入数据：将爬取的数据导入到Python中的数据结构中\n",
    "\n",
    "3）查看数据集信息"
   ]
  },
  {
   "cell_type": "markdown",
   "metadata": {},
   "source": [
    "### 2.1 采集数据"
   ]
  },
  {
   "cell_type": "markdown",
   "metadata": {},
   "source": [
    "[拉勾数据爬取](https://github.com/lzyu86/creator/blob/master/lagou.csv)"
   ]
  },
  {
   "cell_type": "markdown",
   "metadata": {},
   "source": [
    "### 2.2 导入数据"
   ]
  },
  {
   "cell_type": "code",
   "execution_count": 1,
   "metadata": {},
   "outputs": [],
   "source": [
    "#引入模块\n",
    "import pandas as pd\n",
    "import matplotlib.pyplot as plt\n",
    "import jieba.analyse    #提取关键词\n",
    "from wordcloud import WordCloud    \n",
    "import numpy as np\n",
    "#from PIL import Image  也是wordcloud中添加读取mask图片的一种方式\n",
    "import imageio   #读取mask图片的方式更简洁"
   ]
  },
  {
   "cell_type": "code",
   "execution_count": 2,
   "metadata": {},
   "outputs": [],
   "source": [
    "#读取爬虫文件\n",
    "file='./lagou.csv'    #文件路径\n",
    "positionDf = pd.read_csv(file)     #读取文件"
   ]
  },
  {
   "cell_type": "markdown",
   "metadata": {},
   "source": [
    "### 2.3查看数据集信息"
   ]
  },
  {
   "cell_type": "code",
   "execution_count": 3,
   "metadata": {},
   "outputs": [
    {
     "data": {
      "text/html": [
       "<div>\n",
       "<style scoped>\n",
       "    .dataframe tbody tr th:only-of-type {\n",
       "        vertical-align: middle;\n",
       "    }\n",
       "\n",
       "    .dataframe tbody tr th {\n",
       "        vertical-align: top;\n",
       "    }\n",
       "\n",
       "    .dataframe thead th {\n",
       "        text-align: right;\n",
       "    }\n",
       "</style>\n",
       "<table border=\"1\" class=\"dataframe\">\n",
       "  <thead>\n",
       "    <tr style=\"text-align: right;\">\n",
       "      <th></th>\n",
       "      <th>公司</th>\n",
       "      <th>职位</th>\n",
       "      <th>城市</th>\n",
       "      <th>行业</th>\n",
       "      <th>职业技能</th>\n",
       "      <th>工作年限</th>\n",
       "      <th>薪资</th>\n",
       "      <th>融资情况</th>\n",
       "    </tr>\n",
       "  </thead>\n",
       "  <tbody>\n",
       "    <tr>\n",
       "      <th>0</th>\n",
       "      <td>盈富斯</td>\n",
       "      <td>企划专员</td>\n",
       "      <td>广州</td>\n",
       "      <td>电商</td>\n",
       "      <td>['市场分析', '市场竞争分析', '数据分析']</td>\n",
       "      <td>不限</td>\n",
       "      <td>4k-6k</td>\n",
       "      <td>C轮</td>\n",
       "    </tr>\n",
       "    <tr>\n",
       "      <th>1</th>\n",
       "      <td>汇付</td>\n",
       "      <td>数据分析</td>\n",
       "      <td>上海</td>\n",
       "      <td>移动互联网,金融</td>\n",
       "      <td>['SQL', '数据分析']</td>\n",
       "      <td>3-5年</td>\n",
       "      <td>10k-20k</td>\n",
       "      <td>上市公司</td>\n",
       "    </tr>\n",
       "    <tr>\n",
       "      <th>2</th>\n",
       "      <td>毒APP</td>\n",
       "      <td>数据分析师</td>\n",
       "      <td>上海</td>\n",
       "      <td>移动互联网,电商</td>\n",
       "      <td>['Hadoop', 'MySQL', '数据挖掘']</td>\n",
       "      <td>不限</td>\n",
       "      <td>20k-30k</td>\n",
       "      <td>B轮</td>\n",
       "    </tr>\n",
       "    <tr>\n",
       "      <th>3</th>\n",
       "      <td>网达软件</td>\n",
       "      <td>数据分析</td>\n",
       "      <td>上海</td>\n",
       "      <td>移动互联网,电商</td>\n",
       "      <td>['SQL', 'SPSS', '数据分析', '数据库']</td>\n",
       "      <td>1-3年</td>\n",
       "      <td>6k-7k</td>\n",
       "      <td>上市公司</td>\n",
       "    </tr>\n",
       "    <tr>\n",
       "      <th>4</th>\n",
       "      <td>拉勾网</td>\n",
       "      <td>数据分析师</td>\n",
       "      <td>北京</td>\n",
       "      <td>企业服务</td>\n",
       "      <td>['SQL', '数据分析', 'BI', 'SPSS']</td>\n",
       "      <td>1-3年</td>\n",
       "      <td>10k-18k</td>\n",
       "      <td>D轮及以上</td>\n",
       "    </tr>\n",
       "  </tbody>\n",
       "</table>\n",
       "</div>"
      ],
      "text/plain": [
       "     公司     职位  城市        行业                            职业技能  工作年限       薪资  \\\n",
       "0   盈富斯   企划专员  广州        电商      ['市场分析', '市场竞争分析', '数据分析']    不限    4k-6k   \n",
       "1    汇付   数据分析  上海  移动互联网,金融                 ['SQL', '数据分析']  3-5年  10k-20k   \n",
       "2  毒APP  数据分析师  上海  移动互联网,电商     ['Hadoop', 'MySQL', '数据挖掘']    不限  20k-30k   \n",
       "3  网达软件   数据分析  上海  移动互联网,电商  ['SQL', 'SPSS', '数据分析', '数据库']  1-3年    6k-7k   \n",
       "4   拉勾网  数据分析师  北京      企业服务   ['SQL', '数据分析', 'BI', 'SPSS']  1-3年  10k-18k   \n",
       "\n",
       "    融资情况  \n",
       "0     C轮  \n",
       "1   上市公司  \n",
       "2     B轮  \n",
       "3   上市公司  \n",
       "4  D轮及以上  "
      ]
     },
     "execution_count": 3,
     "metadata": {},
     "output_type": "execute_result"
    }
   ],
   "source": [
    "positionDf.head()   #显示前5行，了解数据信息"
   ]
  },
  {
   "cell_type": "code",
   "execution_count": 4,
   "metadata": {
    "scrolled": true
   },
   "outputs": [
    {
     "data": {
      "text/html": [
       "<div>\n",
       "<style scoped>\n",
       "    .dataframe tbody tr th:only-of-type {\n",
       "        vertical-align: middle;\n",
       "    }\n",
       "\n",
       "    .dataframe tbody tr th {\n",
       "        vertical-align: top;\n",
       "    }\n",
       "\n",
       "    .dataframe thead th {\n",
       "        text-align: right;\n",
       "    }\n",
       "</style>\n",
       "<table border=\"1\" class=\"dataframe\">\n",
       "  <thead>\n",
       "    <tr style=\"text-align: right;\">\n",
       "      <th></th>\n",
       "      <th>company</th>\n",
       "      <th>position</th>\n",
       "      <th>city</th>\n",
       "      <th>industryfield</th>\n",
       "      <th>skill</th>\n",
       "      <th>time</th>\n",
       "      <th>income</th>\n",
       "      <th>finance_stage</th>\n",
       "    </tr>\n",
       "  </thead>\n",
       "  <tbody>\n",
       "    <tr>\n",
       "      <th>0</th>\n",
       "      <td>盈富斯</td>\n",
       "      <td>企划专员</td>\n",
       "      <td>广州</td>\n",
       "      <td>电商</td>\n",
       "      <td>['市场分析', '市场竞争分析', '数据分析']</td>\n",
       "      <td>不限</td>\n",
       "      <td>4k-6k</td>\n",
       "      <td>C轮</td>\n",
       "    </tr>\n",
       "    <tr>\n",
       "      <th>1</th>\n",
       "      <td>汇付</td>\n",
       "      <td>数据分析</td>\n",
       "      <td>上海</td>\n",
       "      <td>移动互联网,金融</td>\n",
       "      <td>['SQL', '数据分析']</td>\n",
       "      <td>3-5年</td>\n",
       "      <td>10k-20k</td>\n",
       "      <td>上市公司</td>\n",
       "    </tr>\n",
       "    <tr>\n",
       "      <th>2</th>\n",
       "      <td>毒APP</td>\n",
       "      <td>数据分析师</td>\n",
       "      <td>上海</td>\n",
       "      <td>移动互联网,电商</td>\n",
       "      <td>['Hadoop', 'MySQL', '数据挖掘']</td>\n",
       "      <td>不限</td>\n",
       "      <td>20k-30k</td>\n",
       "      <td>B轮</td>\n",
       "    </tr>\n",
       "    <tr>\n",
       "      <th>3</th>\n",
       "      <td>网达软件</td>\n",
       "      <td>数据分析</td>\n",
       "      <td>上海</td>\n",
       "      <td>移动互联网,电商</td>\n",
       "      <td>['SQL', 'SPSS', '数据分析', '数据库']</td>\n",
       "      <td>1-3年</td>\n",
       "      <td>6k-7k</td>\n",
       "      <td>上市公司</td>\n",
       "    </tr>\n",
       "    <tr>\n",
       "      <th>4</th>\n",
       "      <td>拉勾网</td>\n",
       "      <td>数据分析师</td>\n",
       "      <td>北京</td>\n",
       "      <td>企业服务</td>\n",
       "      <td>['SQL', '数据分析', 'BI', 'SPSS']</td>\n",
       "      <td>1-3年</td>\n",
       "      <td>10k-18k</td>\n",
       "      <td>D轮及以上</td>\n",
       "    </tr>\n",
       "  </tbody>\n",
       "</table>\n",
       "</div>"
      ],
      "text/plain": [
       "  company position city industryfield                           skill  time  \\\n",
       "0     盈富斯     企划专员   广州            电商      ['市场分析', '市场竞争分析', '数据分析']    不限   \n",
       "1      汇付     数据分析   上海      移动互联网,金融                 ['SQL', '数据分析']  3-5年   \n",
       "2    毒APP    数据分析师   上海      移动互联网,电商     ['Hadoop', 'MySQL', '数据挖掘']    不限   \n",
       "3    网达软件     数据分析   上海      移动互联网,电商  ['SQL', 'SPSS', '数据分析', '数据库']  1-3年   \n",
       "4     拉勾网    数据分析师   北京          企业服务   ['SQL', '数据分析', 'BI', 'SPSS']  1-3年   \n",
       "\n",
       "    income finance_stage  \n",
       "0    4k-6k            C轮  \n",
       "1  10k-20k          上市公司  \n",
       "2  20k-30k            B轮  \n",
       "3    6k-7k          上市公司  \n",
       "4  10k-18k         D轮及以上  "
      ]
     },
     "execution_count": 4,
     "metadata": {},
     "output_type": "execute_result"
    }
   ],
   "source": [
    "#对数据列名重命名\n",
    "rename = {'公司':'company','职位':'position','城市':'city','行业':'industryfield','职业技能':'skill','工作年限':'time','薪资':'income','融资情况':'finance_stage'}\n",
    "positionDf.rename(columns = rename,inplace=True)\n",
    "positionDf.head()  #确认更改后效果"
   ]
  },
  {
   "cell_type": "code",
   "execution_count": 5,
   "metadata": {},
   "outputs": [
    {
     "name": "stdout",
     "output_type": "stream",
     "text": [
      "<class 'pandas.core.frame.DataFrame'>\n",
      "RangeIndex: 450 entries, 0 to 449\n",
      "Data columns (total 8 columns):\n",
      "company          450 non-null object\n",
      "position         450 non-null object\n",
      "city             450 non-null object\n",
      "industryfield    450 non-null object\n",
      "skill            450 non-null object\n",
      "time             450 non-null object\n",
      "income           450 non-null object\n",
      "finance_stage    450 non-null object\n",
      "dtypes: object(8)\n",
      "memory usage: 28.2+ KB\n"
     ]
    }
   ],
   "source": [
    "#确认数据类型，确认数据有无缺失\n",
    "positionDf.info()"
   ]
  },
  {
   "cell_type": "markdown",
   "metadata": {},
   "source": [
    "根据上述数据信息显示，共计8列，450行数据，并且每行数据无缺失，不需要特别对数据进行缺失补充（数据爬取还是蛮成功的O(∩_∩)O），后面的数据清洗会变得轻松些许，可以跳过数据预处理，小跳一下，进入特征值提取。"
   ]
  },
  {
   "cell_type": "markdown",
   "metadata": {},
   "source": [
    "## 3.数据清洗 "
   ]
  },
  {
   "cell_type": "markdown",
   "metadata": {},
   "source": [
    "## 3.1 数据预处理 "
   ]
  },
  {
   "cell_type": "markdown",
   "metadata": {},
   "source": [
    "这里我就无耻的跳过了，毕竟爬取的数据还是很好的！！！"
   ]
  },
  {
   "cell_type": "markdown",
   "metadata": {},
   "source": [
    "### 3.2 特征值提取 "
   ]
  },
  {
   "cell_type": "markdown",
   "metadata": {},
   "source": [
    "#### 3.2.1 行业信息提取"
   ]
  },
  {
   "cell_type": "markdown",
   "metadata": {},
   "source": [
    "从数据信息中可以看出，行业描述数量不等，且有的显示“移动互联网”行业，不具有明显特征，区分度不高。这里对于有两个描述的，我直接选择第二个行业描述，对于只有一中描述的，我用“电商”直接代替。"
   ]
  },
  {
   "cell_type": "code",
   "execution_count": 6,
   "metadata": {},
   "outputs": [],
   "source": [
    "#定义提取行业关键字函数\n",
    "def get_key(industryfield):\n",
    "    try:\n",
    "        a = industryfield.split(',')[1]    #根据行业信息显示，对多种行业类别的先通过‘,’分割数据\n",
    "        b = a.split('丨')[0].split(' ')[0]   #对含有‘丨’的数据分割，最后对存在空格分隔的数据进行分割\n",
    "    except:\n",
    "        b = industryfield.split('丨')[0].split(' ')[0]    #对一种行业类别的，仅含有丨’的数据分割\n",
    "    if b == '移动互联网':\n",
    "        b = '电商'\n",
    "    return b"
   ]
  },
  {
   "cell_type": "code",
   "execution_count": 7,
   "metadata": {},
   "outputs": [
    {
     "data": {
      "text/html": [
       "<div>\n",
       "<style scoped>\n",
       "    .dataframe tbody tr th:only-of-type {\n",
       "        vertical-align: middle;\n",
       "    }\n",
       "\n",
       "    .dataframe tbody tr th {\n",
       "        vertical-align: top;\n",
       "    }\n",
       "\n",
       "    .dataframe thead th {\n",
       "        text-align: right;\n",
       "    }\n",
       "</style>\n",
       "<table border=\"1\" class=\"dataframe\">\n",
       "  <thead>\n",
       "    <tr style=\"text-align: right;\">\n",
       "      <th></th>\n",
       "      <th>field</th>\n",
       "    </tr>\n",
       "  </thead>\n",
       "  <tbody>\n",
       "    <tr>\n",
       "      <th>0</th>\n",
       "      <td>电商</td>\n",
       "    </tr>\n",
       "    <tr>\n",
       "      <th>1</th>\n",
       "      <td>金融</td>\n",
       "    </tr>\n",
       "    <tr>\n",
       "      <th>2</th>\n",
       "      <td>电商</td>\n",
       "    </tr>\n",
       "    <tr>\n",
       "      <th>3</th>\n",
       "      <td>电商</td>\n",
       "    </tr>\n",
       "    <tr>\n",
       "      <th>4</th>\n",
       "      <td>企业服务</td>\n",
       "    </tr>\n",
       "  </tbody>\n",
       "</table>\n",
       "</div>"
      ],
      "text/plain": [
       "  field\n",
       "0    电商\n",
       "1    金融\n",
       "2    电商\n",
       "3    电商\n",
       "4  企业服务"
      ]
     },
     "execution_count": 7,
     "metadata": {},
     "output_type": "execute_result"
    }
   ],
   "source": [
    "#获取清洗后的行业数据\n",
    "industry = pd.DataFrame()\n",
    "industry['field'] = positionDf['industryfield'].map(get_key)\n",
    "industry.head()"
   ]
  },
  {
   "cell_type": "code",
   "execution_count": 8,
   "metadata": {},
   "outputs": [
    {
     "data": {
      "text/html": [
       "<div>\n",
       "<style scoped>\n",
       "    .dataframe tbody tr th:only-of-type {\n",
       "        vertical-align: middle;\n",
       "    }\n",
       "\n",
       "    .dataframe tbody tr th {\n",
       "        vertical-align: top;\n",
       "    }\n",
       "\n",
       "    .dataframe thead th {\n",
       "        text-align: right;\n",
       "    }\n",
       "</style>\n",
       "<table border=\"1\" class=\"dataframe\">\n",
       "  <thead>\n",
       "    <tr style=\"text-align: right;\">\n",
       "      <th></th>\n",
       "      <th>company</th>\n",
       "      <th>position</th>\n",
       "      <th>city</th>\n",
       "      <th>skill</th>\n",
       "      <th>time</th>\n",
       "      <th>income</th>\n",
       "      <th>finance_stage</th>\n",
       "      <th>field</th>\n",
       "    </tr>\n",
       "  </thead>\n",
       "  <tbody>\n",
       "    <tr>\n",
       "      <th>0</th>\n",
       "      <td>盈富斯</td>\n",
       "      <td>企划专员</td>\n",
       "      <td>广州</td>\n",
       "      <td>['市场分析', '市场竞争分析', '数据分析']</td>\n",
       "      <td>不限</td>\n",
       "      <td>4k-6k</td>\n",
       "      <td>C轮</td>\n",
       "      <td>电商</td>\n",
       "    </tr>\n",
       "    <tr>\n",
       "      <th>1</th>\n",
       "      <td>汇付</td>\n",
       "      <td>数据分析</td>\n",
       "      <td>上海</td>\n",
       "      <td>['SQL', '数据分析']</td>\n",
       "      <td>3-5年</td>\n",
       "      <td>10k-20k</td>\n",
       "      <td>上市公司</td>\n",
       "      <td>金融</td>\n",
       "    </tr>\n",
       "    <tr>\n",
       "      <th>2</th>\n",
       "      <td>毒APP</td>\n",
       "      <td>数据分析师</td>\n",
       "      <td>上海</td>\n",
       "      <td>['Hadoop', 'MySQL', '数据挖掘']</td>\n",
       "      <td>不限</td>\n",
       "      <td>20k-30k</td>\n",
       "      <td>B轮</td>\n",
       "      <td>电商</td>\n",
       "    </tr>\n",
       "    <tr>\n",
       "      <th>3</th>\n",
       "      <td>网达软件</td>\n",
       "      <td>数据分析</td>\n",
       "      <td>上海</td>\n",
       "      <td>['SQL', 'SPSS', '数据分析', '数据库']</td>\n",
       "      <td>1-3年</td>\n",
       "      <td>6k-7k</td>\n",
       "      <td>上市公司</td>\n",
       "      <td>电商</td>\n",
       "    </tr>\n",
       "    <tr>\n",
       "      <th>4</th>\n",
       "      <td>拉勾网</td>\n",
       "      <td>数据分析师</td>\n",
       "      <td>北京</td>\n",
       "      <td>['SQL', '数据分析', 'BI', 'SPSS']</td>\n",
       "      <td>1-3年</td>\n",
       "      <td>10k-18k</td>\n",
       "      <td>D轮及以上</td>\n",
       "      <td>企业服务</td>\n",
       "    </tr>\n",
       "  </tbody>\n",
       "</table>\n",
       "</div>"
      ],
      "text/plain": [
       "  company position city                           skill  time   income  \\\n",
       "0     盈富斯     企划专员   广州      ['市场分析', '市场竞争分析', '数据分析']    不限    4k-6k   \n",
       "1      汇付     数据分析   上海                 ['SQL', '数据分析']  3-5年  10k-20k   \n",
       "2    毒APP    数据分析师   上海     ['Hadoop', 'MySQL', '数据挖掘']    不限  20k-30k   \n",
       "3    网达软件     数据分析   上海  ['SQL', 'SPSS', '数据分析', '数据库']  1-3年    6k-7k   \n",
       "4     拉勾网    数据分析师   北京   ['SQL', '数据分析', 'BI', 'SPSS']  1-3年  10k-18k   \n",
       "\n",
       "  finance_stage field  \n",
       "0            C轮    电商  \n",
       "1          上市公司    金融  \n",
       "2            B轮    电商  \n",
       "3          上市公司    电商  \n",
       "4         D轮及以上  企业服务  "
      ]
     },
     "execution_count": 8,
     "metadata": {},
     "output_type": "execute_result"
    }
   ],
   "source": [
    "#将清洗后的行业数据和原数据合并，并将原行业数据删除\n",
    "a = positionDf     #复制原数据\n",
    "a = pd.concat([positionDf,industry],axis=1)     #合并数据\n",
    "a.drop('industryfield',axis=1,inplace=True)     #删除数据\n",
    "a.head()"
   ]
  },
  {
   "cell_type": "markdown",
   "metadata": {},
   "source": [
    "#### 3.2.2 薪资信息提取"
   ]
  },
  {
   "cell_type": "markdown",
   "metadata": {},
   "source": [
    "在每家公司的薪资信息中，使用薪资区间表示。我在这里提取区间的平均值来表示每家公司的薪资水平。"
   ]
  },
  {
   "cell_type": "code",
   "execution_count": 9,
   "metadata": {},
   "outputs": [],
   "source": [
    "#定义获取薪资函数\n",
    "def get_income(income):\n",
    "    try:\n",
    "        income_min = int(income.split('-')[0].split('k')[0])    \n",
    "        income_max = int(income.split('-')[1].split('k')[0])\n",
    "        income_avg = round( (income_min+income_max)/2)\n",
    "    except:\n",
    "        income_avg = round(income.split('k'))\n",
    "    return income_avg"
   ]
  },
  {
   "cell_type": "code",
   "execution_count": 10,
   "metadata": {},
   "outputs": [
    {
     "data": {
      "text/html": [
       "<div>\n",
       "<style scoped>\n",
       "    .dataframe tbody tr th:only-of-type {\n",
       "        vertical-align: middle;\n",
       "    }\n",
       "\n",
       "    .dataframe tbody tr th {\n",
       "        vertical-align: top;\n",
       "    }\n",
       "\n",
       "    .dataframe thead th {\n",
       "        text-align: right;\n",
       "    }\n",
       "</style>\n",
       "<table border=\"1\" class=\"dataframe\">\n",
       "  <thead>\n",
       "    <tr style=\"text-align: right;\">\n",
       "      <th></th>\n",
       "      <th>salary</th>\n",
       "    </tr>\n",
       "  </thead>\n",
       "  <tbody>\n",
       "    <tr>\n",
       "      <th>0</th>\n",
       "      <td>5</td>\n",
       "    </tr>\n",
       "    <tr>\n",
       "      <th>1</th>\n",
       "      <td>15</td>\n",
       "    </tr>\n",
       "    <tr>\n",
       "      <th>2</th>\n",
       "      <td>25</td>\n",
       "    </tr>\n",
       "    <tr>\n",
       "      <th>3</th>\n",
       "      <td>6</td>\n",
       "    </tr>\n",
       "    <tr>\n",
       "      <th>4</th>\n",
       "      <td>14</td>\n",
       "    </tr>\n",
       "  </tbody>\n",
       "</table>\n",
       "</div>"
      ],
      "text/plain": [
       "   salary\n",
       "0       5\n",
       "1      15\n",
       "2      25\n",
       "3       6\n",
       "4      14"
      ]
     },
     "execution_count": 10,
     "metadata": {},
     "output_type": "execute_result"
    }
   ],
   "source": [
    "#获取清洗后的薪资数据\n",
    "incomeDf = pd.DataFrame()\n",
    "incomeDf['salary'] = positionDf['income'].map(get_income)\n",
    "incomeDf.head()"
   ]
  },
  {
   "cell_type": "code",
   "execution_count": 11,
   "metadata": {},
   "outputs": [
    {
     "data": {
      "text/html": [
       "<div>\n",
       "<style scoped>\n",
       "    .dataframe tbody tr th:only-of-type {\n",
       "        vertical-align: middle;\n",
       "    }\n",
       "\n",
       "    .dataframe tbody tr th {\n",
       "        vertical-align: top;\n",
       "    }\n",
       "\n",
       "    .dataframe thead th {\n",
       "        text-align: right;\n",
       "    }\n",
       "</style>\n",
       "<table border=\"1\" class=\"dataframe\">\n",
       "  <thead>\n",
       "    <tr style=\"text-align: right;\">\n",
       "      <th></th>\n",
       "      <th>company</th>\n",
       "      <th>position</th>\n",
       "      <th>city</th>\n",
       "      <th>skill</th>\n",
       "      <th>time</th>\n",
       "      <th>finance_stage</th>\n",
       "      <th>field</th>\n",
       "      <th>salary</th>\n",
       "    </tr>\n",
       "  </thead>\n",
       "  <tbody>\n",
       "    <tr>\n",
       "      <th>0</th>\n",
       "      <td>盈富斯</td>\n",
       "      <td>企划专员</td>\n",
       "      <td>广州</td>\n",
       "      <td>['市场分析', '市场竞争分析', '数据分析']</td>\n",
       "      <td>不限</td>\n",
       "      <td>C轮</td>\n",
       "      <td>电商</td>\n",
       "      <td>5</td>\n",
       "    </tr>\n",
       "    <tr>\n",
       "      <th>1</th>\n",
       "      <td>汇付</td>\n",
       "      <td>数据分析</td>\n",
       "      <td>上海</td>\n",
       "      <td>['SQL', '数据分析']</td>\n",
       "      <td>3-5年</td>\n",
       "      <td>上市公司</td>\n",
       "      <td>金融</td>\n",
       "      <td>15</td>\n",
       "    </tr>\n",
       "    <tr>\n",
       "      <th>2</th>\n",
       "      <td>毒APP</td>\n",
       "      <td>数据分析师</td>\n",
       "      <td>上海</td>\n",
       "      <td>['Hadoop', 'MySQL', '数据挖掘']</td>\n",
       "      <td>不限</td>\n",
       "      <td>B轮</td>\n",
       "      <td>电商</td>\n",
       "      <td>25</td>\n",
       "    </tr>\n",
       "    <tr>\n",
       "      <th>3</th>\n",
       "      <td>网达软件</td>\n",
       "      <td>数据分析</td>\n",
       "      <td>上海</td>\n",
       "      <td>['SQL', 'SPSS', '数据分析', '数据库']</td>\n",
       "      <td>1-3年</td>\n",
       "      <td>上市公司</td>\n",
       "      <td>电商</td>\n",
       "      <td>6</td>\n",
       "    </tr>\n",
       "    <tr>\n",
       "      <th>4</th>\n",
       "      <td>拉勾网</td>\n",
       "      <td>数据分析师</td>\n",
       "      <td>北京</td>\n",
       "      <td>['SQL', '数据分析', 'BI', 'SPSS']</td>\n",
       "      <td>1-3年</td>\n",
       "      <td>D轮及以上</td>\n",
       "      <td>企业服务</td>\n",
       "      <td>14</td>\n",
       "    </tr>\n",
       "  </tbody>\n",
       "</table>\n",
       "</div>"
      ],
      "text/plain": [
       "  company position city                           skill  time finance_stage  \\\n",
       "0     盈富斯     企划专员   广州      ['市场分析', '市场竞争分析', '数据分析']    不限            C轮   \n",
       "1      汇付     数据分析   上海                 ['SQL', '数据分析']  3-5年          上市公司   \n",
       "2    毒APP    数据分析师   上海     ['Hadoop', 'MySQL', '数据挖掘']    不限            B轮   \n",
       "3    网达软件     数据分析   上海  ['SQL', 'SPSS', '数据分析', '数据库']  1-3年          上市公司   \n",
       "4     拉勾网    数据分析师   北京   ['SQL', '数据分析', 'BI', 'SPSS']  1-3年         D轮及以上   \n",
       "\n",
       "  field  salary  \n",
       "0    电商       5  \n",
       "1    金融      15  \n",
       "2    电商      25  \n",
       "3    电商       6  \n",
       "4  企业服务      14  "
      ]
     },
     "execution_count": 11,
     "metadata": {},
     "output_type": "execute_result"
    }
   ],
   "source": [
    "#将清洗后的薪资数据合并至已更新行业数据的总表\n",
    "b = a\n",
    "b = pd.concat([a,incomeDf],axis=1)\n",
    "b.drop('income',axis=1,inplace=True)\n",
    "b.head()"
   ]
  },
  {
   "cell_type": "markdown",
   "metadata": {},
   "source": [
    "#### 3.2.3 工作年限信息提取 "
   ]
  },
  {
   "cell_type": "markdown",
   "metadata": {},
   "source": [
    "工作年限中，存在“不限”以及“应届毕业生”有别于其他几种的表现形式，这里我把“不限”和“应届毕业生”作为同种类型，整合到一起，并将它们均命名为“1年以下”，使形式上与其他几种类型保持一致"
   ]
  },
  {
   "cell_type": "code",
   "execution_count": 12,
   "metadata": {},
   "outputs": [],
   "source": [
    "#定义获取工作年限的函数\n",
    "def get_time(time):\n",
    "    if time == '不限' or time == '应届毕业生' :    #不限和应届毕业生认为是同种类别，均定义为1年以下\n",
    "            time = '1年以下'\n",
    "    return time"
   ]
  },
  {
   "cell_type": "code",
   "execution_count": 13,
   "metadata": {},
   "outputs": [
    {
     "data": {
      "text/html": [
       "<div>\n",
       "<style scoped>\n",
       "    .dataframe tbody tr th:only-of-type {\n",
       "        vertical-align: middle;\n",
       "    }\n",
       "\n",
       "    .dataframe tbody tr th {\n",
       "        vertical-align: top;\n",
       "    }\n",
       "\n",
       "    .dataframe thead th {\n",
       "        text-align: right;\n",
       "    }\n",
       "</style>\n",
       "<table border=\"1\" class=\"dataframe\">\n",
       "  <thead>\n",
       "    <tr style=\"text-align: right;\">\n",
       "      <th></th>\n",
       "      <th>experience</th>\n",
       "    </tr>\n",
       "  </thead>\n",
       "  <tbody>\n",
       "    <tr>\n",
       "      <th>0</th>\n",
       "      <td>1年以下</td>\n",
       "    </tr>\n",
       "    <tr>\n",
       "      <th>1</th>\n",
       "      <td>3-5年</td>\n",
       "    </tr>\n",
       "    <tr>\n",
       "      <th>2</th>\n",
       "      <td>1年以下</td>\n",
       "    </tr>\n",
       "    <tr>\n",
       "      <th>3</th>\n",
       "      <td>1-3年</td>\n",
       "    </tr>\n",
       "    <tr>\n",
       "      <th>4</th>\n",
       "      <td>1-3年</td>\n",
       "    </tr>\n",
       "  </tbody>\n",
       "</table>\n",
       "</div>"
      ],
      "text/plain": [
       "  experience\n",
       "0       1年以下\n",
       "1       3-5年\n",
       "2       1年以下\n",
       "3       1-3年\n",
       "4       1-3年"
      ]
     },
     "execution_count": 13,
     "metadata": {},
     "output_type": "execute_result"
    }
   ],
   "source": [
    "#获取清洗后的经验数据\n",
    "experience = pd.DataFrame()\n",
    "experience['experience'] = b['time'].map(get_time)\n",
    "experience.head()"
   ]
  },
  {
   "cell_type": "code",
   "execution_count": 14,
   "metadata": {},
   "outputs": [
    {
     "data": {
      "text/html": [
       "<div>\n",
       "<style scoped>\n",
       "    .dataframe tbody tr th:only-of-type {\n",
       "        vertical-align: middle;\n",
       "    }\n",
       "\n",
       "    .dataframe tbody tr th {\n",
       "        vertical-align: top;\n",
       "    }\n",
       "\n",
       "    .dataframe thead th {\n",
       "        text-align: right;\n",
       "    }\n",
       "</style>\n",
       "<table border=\"1\" class=\"dataframe\">\n",
       "  <thead>\n",
       "    <tr style=\"text-align: right;\">\n",
       "      <th></th>\n",
       "      <th>company</th>\n",
       "      <th>position</th>\n",
       "      <th>city</th>\n",
       "      <th>skill</th>\n",
       "      <th>finance_stage</th>\n",
       "      <th>field</th>\n",
       "      <th>salary</th>\n",
       "      <th>experience</th>\n",
       "    </tr>\n",
       "  </thead>\n",
       "  <tbody>\n",
       "    <tr>\n",
       "      <th>0</th>\n",
       "      <td>盈富斯</td>\n",
       "      <td>企划专员</td>\n",
       "      <td>广州</td>\n",
       "      <td>['市场分析', '市场竞争分析', '数据分析']</td>\n",
       "      <td>C轮</td>\n",
       "      <td>电商</td>\n",
       "      <td>5</td>\n",
       "      <td>1年以下</td>\n",
       "    </tr>\n",
       "    <tr>\n",
       "      <th>1</th>\n",
       "      <td>汇付</td>\n",
       "      <td>数据分析</td>\n",
       "      <td>上海</td>\n",
       "      <td>['SQL', '数据分析']</td>\n",
       "      <td>上市公司</td>\n",
       "      <td>金融</td>\n",
       "      <td>15</td>\n",
       "      <td>3-5年</td>\n",
       "    </tr>\n",
       "    <tr>\n",
       "      <th>2</th>\n",
       "      <td>毒APP</td>\n",
       "      <td>数据分析师</td>\n",
       "      <td>上海</td>\n",
       "      <td>['Hadoop', 'MySQL', '数据挖掘']</td>\n",
       "      <td>B轮</td>\n",
       "      <td>电商</td>\n",
       "      <td>25</td>\n",
       "      <td>1年以下</td>\n",
       "    </tr>\n",
       "    <tr>\n",
       "      <th>3</th>\n",
       "      <td>网达软件</td>\n",
       "      <td>数据分析</td>\n",
       "      <td>上海</td>\n",
       "      <td>['SQL', 'SPSS', '数据分析', '数据库']</td>\n",
       "      <td>上市公司</td>\n",
       "      <td>电商</td>\n",
       "      <td>6</td>\n",
       "      <td>1-3年</td>\n",
       "    </tr>\n",
       "    <tr>\n",
       "      <th>4</th>\n",
       "      <td>拉勾网</td>\n",
       "      <td>数据分析师</td>\n",
       "      <td>北京</td>\n",
       "      <td>['SQL', '数据分析', 'BI', 'SPSS']</td>\n",
       "      <td>D轮及以上</td>\n",
       "      <td>企业服务</td>\n",
       "      <td>14</td>\n",
       "      <td>1-3年</td>\n",
       "    </tr>\n",
       "  </tbody>\n",
       "</table>\n",
       "</div>"
      ],
      "text/plain": [
       "  company position city                           skill finance_stage field  \\\n",
       "0     盈富斯     企划专员   广州      ['市场分析', '市场竞争分析', '数据分析']            C轮    电商   \n",
       "1      汇付     数据分析   上海                 ['SQL', '数据分析']          上市公司    金融   \n",
       "2    毒APP    数据分析师   上海     ['Hadoop', 'MySQL', '数据挖掘']            B轮    电商   \n",
       "3    网达软件     数据分析   上海  ['SQL', 'SPSS', '数据分析', '数据库']          上市公司    电商   \n",
       "4     拉勾网    数据分析师   北京   ['SQL', '数据分析', 'BI', 'SPSS']         D轮及以上  企业服务   \n",
       "\n",
       "   salary experience  \n",
       "0       5       1年以下  \n",
       "1      15       3-5年  \n",
       "2      25       1年以下  \n",
       "3       6       1-3年  \n",
       "4      14       1-3年  "
      ]
     },
     "execution_count": 14,
     "metadata": {},
     "output_type": "execute_result"
    }
   ],
   "source": [
    "#将清洗后的数据合并至数据已更新（行业、薪资）数据总表\n",
    "c = b\n",
    "c = pd.concat([b,experience],axis=1)\n",
    "c.drop('time',axis=1,inplace=True)\n",
    "c.head()"
   ]
  },
  {
   "cell_type": "markdown",
   "metadata": {},
   "source": [
    "#### 3.2.4 职业技能信息提取"
   ]
  },
  {
   "cell_type": "markdown",
   "metadata": {},
   "source": [
    "职业技能信息中类似列表形式，实则为字符串格式。为方便对其中的中英文描述进行快速提取，选择导入模块jieba进行分词，获取所需信息。"
   ]
  },
  {
   "cell_type": "code",
   "execution_count": 15,
   "metadata": {
    "scrolled": true
   },
   "outputs": [
    {
     "name": "stderr",
     "output_type": "stream",
     "text": [
      "Building prefix dict from the default dictionary ...\n",
      "Loading model from cache C:\\Users\\LZYU\\AppData\\Local\\Temp\\jieba.cache\n",
      "Loading model cost 2.238 seconds.\n",
      "Prefix dict has been built succesfully.\n"
     ]
    }
   ],
   "source": [
    "#载入个人词汇，保证jieba能按照用户要求进行分词\n",
    "jieba.load_userdict('./skill.txt') "
   ]
  },
  {
   "cell_type": "code",
   "execution_count": 16,
   "metadata": {},
   "outputs": [],
   "source": [
    "#定义获取职业技能函数\n",
    "def get_skill(skill):   \n",
    "    key_skill = jieba.analyse.extract_tags(skill,topK=20)      #提取关键词，输出为列表形式\n",
    "    return key_skill"
   ]
  },
  {
   "cell_type": "code",
   "execution_count": 17,
   "metadata": {},
   "outputs": [
    {
     "data": {
      "text/html": [
       "<div>\n",
       "<style scoped>\n",
       "    .dataframe tbody tr th:only-of-type {\n",
       "        vertical-align: middle;\n",
       "    }\n",
       "\n",
       "    .dataframe tbody tr th {\n",
       "        vertical-align: top;\n",
       "    }\n",
       "\n",
       "    .dataframe thead th {\n",
       "        text-align: right;\n",
       "    }\n",
       "</style>\n",
       "<table border=\"1\" class=\"dataframe\">\n",
       "  <thead>\n",
       "    <tr style=\"text-align: right;\">\n",
       "      <th></th>\n",
       "      <th>key_skill</th>\n",
       "    </tr>\n",
       "  </thead>\n",
       "  <tbody>\n",
       "    <tr>\n",
       "      <th>0</th>\n",
       "      <td>[市场分析, 市场竞争分析, 数据分析]</td>\n",
       "    </tr>\n",
       "    <tr>\n",
       "      <th>1</th>\n",
       "      <td>[SQL, 数据分析]</td>\n",
       "    </tr>\n",
       "    <tr>\n",
       "      <th>2</th>\n",
       "      <td>[数据挖掘, Hadoop, MySQL]</td>\n",
       "    </tr>\n",
       "    <tr>\n",
       "      <th>3</th>\n",
       "      <td>[SQL, SPSS, 数据分析, 数据库]</td>\n",
       "    </tr>\n",
       "    <tr>\n",
       "      <th>4</th>\n",
       "      <td>[SQL, BI, SPSS, 数据分析]</td>\n",
       "    </tr>\n",
       "  </tbody>\n",
       "</table>\n",
       "</div>"
      ],
      "text/plain": [
       "                key_skill\n",
       "0    [市场分析, 市场竞争分析, 数据分析]\n",
       "1             [SQL, 数据分析]\n",
       "2   [数据挖掘, Hadoop, MySQL]\n",
       "3  [SQL, SPSS, 数据分析, 数据库]\n",
       "4   [SQL, BI, SPSS, 数据分析]"
      ]
     },
     "execution_count": 17,
     "metadata": {},
     "output_type": "execute_result"
    }
   ],
   "source": [
    "#获取清洗后的职业技能数据\n",
    "skillDf = pd.DataFrame()\n",
    "skillDf['key_skill'] = c['skill'].map(get_skill)\n",
    "skillDf.head()"
   ]
  },
  {
   "cell_type": "code",
   "execution_count": 18,
   "metadata": {},
   "outputs": [
    {
     "data": {
      "text/plain": [
       "\"\\n测试清洗后的数据\\nskill_list = []\\nfor i in range(len(skillDf['key_skill'])):\\n    for j in range(len(skillDf.loc[i,'key_skill'])):\\n        skill_list.append(skillDf.loc[i,'key_skill'][j])       \\nskill_list1 = pd.DataFrame(skill_list)\\nskill_list1.columns = ['skill']\\n\""
      ]
     },
     "execution_count": 18,
     "metadata": {},
     "output_type": "execute_result"
    }
   ],
   "source": [
    "'''\n",
    "测试清洗后的数据\n",
    "skill_list = []\n",
    "for i in range(len(skillDf['key_skill'])):\n",
    "    for j in range(len(skillDf.loc[i,'key_skill'])):\n",
    "        skill_list.append(skillDf.loc[i,'key_skill'][j])       \n",
    "skill_list1 = pd.DataFrame(skill_list)\n",
    "skill_list1.columns = ['skill']\n",
    "'''"
   ]
  },
  {
   "cell_type": "code",
   "execution_count": 19,
   "metadata": {
    "scrolled": true
   },
   "outputs": [
    {
     "data": {
      "text/html": [
       "<div>\n",
       "<style scoped>\n",
       "    .dataframe tbody tr th:only-of-type {\n",
       "        vertical-align: middle;\n",
       "    }\n",
       "\n",
       "    .dataframe tbody tr th {\n",
       "        vertical-align: top;\n",
       "    }\n",
       "\n",
       "    .dataframe thead th {\n",
       "        text-align: right;\n",
       "    }\n",
       "</style>\n",
       "<table border=\"1\" class=\"dataframe\">\n",
       "  <thead>\n",
       "    <tr style=\"text-align: right;\">\n",
       "      <th></th>\n",
       "      <th>company</th>\n",
       "      <th>position</th>\n",
       "      <th>city</th>\n",
       "      <th>finance_stage</th>\n",
       "      <th>field</th>\n",
       "      <th>salary</th>\n",
       "      <th>experience</th>\n",
       "      <th>key_skill</th>\n",
       "    </tr>\n",
       "  </thead>\n",
       "  <tbody>\n",
       "    <tr>\n",
       "      <th>0</th>\n",
       "      <td>盈富斯</td>\n",
       "      <td>企划专员</td>\n",
       "      <td>广州</td>\n",
       "      <td>C轮</td>\n",
       "      <td>电商</td>\n",
       "      <td>5</td>\n",
       "      <td>1年以下</td>\n",
       "      <td>[市场分析, 市场竞争分析, 数据分析]</td>\n",
       "    </tr>\n",
       "    <tr>\n",
       "      <th>1</th>\n",
       "      <td>汇付</td>\n",
       "      <td>数据分析</td>\n",
       "      <td>上海</td>\n",
       "      <td>上市公司</td>\n",
       "      <td>金融</td>\n",
       "      <td>15</td>\n",
       "      <td>3-5年</td>\n",
       "      <td>[SQL, 数据分析]</td>\n",
       "    </tr>\n",
       "    <tr>\n",
       "      <th>2</th>\n",
       "      <td>毒APP</td>\n",
       "      <td>数据分析师</td>\n",
       "      <td>上海</td>\n",
       "      <td>B轮</td>\n",
       "      <td>电商</td>\n",
       "      <td>25</td>\n",
       "      <td>1年以下</td>\n",
       "      <td>[数据挖掘, Hadoop, MySQL]</td>\n",
       "    </tr>\n",
       "    <tr>\n",
       "      <th>3</th>\n",
       "      <td>网达软件</td>\n",
       "      <td>数据分析</td>\n",
       "      <td>上海</td>\n",
       "      <td>上市公司</td>\n",
       "      <td>电商</td>\n",
       "      <td>6</td>\n",
       "      <td>1-3年</td>\n",
       "      <td>[SQL, SPSS, 数据分析, 数据库]</td>\n",
       "    </tr>\n",
       "    <tr>\n",
       "      <th>4</th>\n",
       "      <td>拉勾网</td>\n",
       "      <td>数据分析师</td>\n",
       "      <td>北京</td>\n",
       "      <td>D轮及以上</td>\n",
       "      <td>企业服务</td>\n",
       "      <td>14</td>\n",
       "      <td>1-3年</td>\n",
       "      <td>[SQL, BI, SPSS, 数据分析]</td>\n",
       "    </tr>\n",
       "  </tbody>\n",
       "</table>\n",
       "</div>"
      ],
      "text/plain": [
       "  company position city finance_stage field  salary experience  \\\n",
       "0     盈富斯     企划专员   广州            C轮    电商       5       1年以下   \n",
       "1      汇付     数据分析   上海          上市公司    金融      15       3-5年   \n",
       "2    毒APP    数据分析师   上海            B轮    电商      25       1年以下   \n",
       "3    网达软件     数据分析   上海          上市公司    电商       6       1-3年   \n",
       "4     拉勾网    数据分析师   北京         D轮及以上  企业服务      14       1-3年   \n",
       "\n",
       "                key_skill  \n",
       "0    [市场分析, 市场竞争分析, 数据分析]  \n",
       "1             [SQL, 数据分析]  \n",
       "2   [数据挖掘, Hadoop, MySQL]  \n",
       "3  [SQL, SPSS, 数据分析, 数据库]  \n",
       "4   [SQL, BI, SPSS, 数据分析]  "
      ]
     },
     "execution_count": 19,
     "metadata": {},
     "output_type": "execute_result"
    }
   ],
   "source": [
    "#将清洗后的职业技能数据合并至已更新（行业、薪资、经验）数据总表\n",
    "d=c\n",
    "d = pd.concat([c,skillDf],axis=1)\n",
    "d.drop('skill',axis=1,inplace=True)\n",
    "d.head()"
   ]
  },
  {
   "cell_type": "markdown",
   "metadata": {},
   "source": [
    "## 4.数据可视化 "
   ]
  },
  {
   "cell_type": "markdown",
   "metadata": {},
   "source": [
    "定义分组函数，对各列的特征进行对比分析"
   ]
  },
  {
   "cell_type": "code",
   "execution_count": 20,
   "metadata": {},
   "outputs": [],
   "source": [
    "#定义分组函数，以column列为依据对Df数据进行分组\n",
    "def get_group(Df,column):\n",
    "    grouped = Df.groupby(column).size().sort_values(ascending = False)    #以column列为依据分组并计数，降序排列\n",
    "    grouped_Df = pd.DataFrame(grouped)                                           #转为dataframe格式\n",
    "    grouped_Df[column] = grouped_Df.index                                       #新建一列，数据为索引下的数据\n",
    "    grouped_Df.columns = ['num',column]                                          #列重命名\n",
    "    return grouped_Df"
   ]
  },
  {
   "cell_type": "markdown",
   "metadata": {},
   "source": [
    "### 4.1城市岗位分布"
   ]
  },
  {
   "cell_type": "code",
   "execution_count": 21,
   "metadata": {},
   "outputs": [],
   "source": [
    "#城市岗位分布\n",
    "group_city = get_group(d,'city')"
   ]
  },
  {
   "cell_type": "code",
   "execution_count": 22,
   "metadata": {
    "scrolled": true
   },
   "outputs": [
    {
     "data": {
      "image/png": "[encoded data removed]",
      "text/plain": [
       "<Figure size 432x288 with 1 Axes>"
      ]
     },
     "metadata": {
      "needs_background": "light"
     },
     "output_type": "display_data"
    }
   ],
   "source": [
    "#绘制城市岗位分布图\n",
    "group_city.plot.bar(x='city',y='num',label = '数量',color = 'g')   #绘图\n",
    "plt.grid(True)                 #增加网格   \n",
    "plt.xlabel('城市')             #行标签\n",
    "plt.ylabel('岗位数量')      #列标签\n",
    "plt.title('城市岗位分布')  #图片标题\n",
    "plt.show()                   #显示图形"
   ]
  },
  {
   "cell_type": "markdown",
   "metadata": {},
   "source": [
    "从上图可以看出，数据分析岗位较多的城市主要集中在：北京、上海、深圳、广州、杭州、成都，岗位数量依次递减，一线城市的需求数量最大，准一线城市紧随其后。"
   ]
  },
  {
   "cell_type": "markdown",
   "metadata": {},
   "source": [
    "### 4.2 行业分布"
   ]
  },
  {
   "cell_type": "code",
   "execution_count": 23,
   "metadata": {},
   "outputs": [],
   "source": [
    "#行业分布\n",
    "group_field = get_group(d,'field')"
   ]
  },
  {
   "cell_type": "code",
   "execution_count": 24,
   "metadata": {},
   "outputs": [
    {
     "data": {
      "image/png": "[encoded data removed]",
      "text/plain": [
       "<Figure size 432x288 with 1 Axes>"
      ]
     },
     "metadata": {
      "needs_background": "light"
     },
     "output_type": "display_data"
    }
   ],
   "source": [
    "#绘制行业分布图\n",
    "group_field.plot.bar(x='field',y='num',label = '数量',color = 'g')\n",
    "plt.grid(True)                 #增加网格\n",
    "plt.xlabel('行业')            #行标签\n",
    "plt.ylabel('行业数量')     #列标签\n",
    "plt.title('行业分布')       #图片标题\n",
    "plt.show()                  #显示图形"
   ]
  },
  {
   "cell_type": "markdown",
   "metadata": {},
   "source": [
    "从上图可以看出，占据绝对优势的行业为电商和金融，数据服务和消费生活类的行业次之。"
   ]
  },
  {
   "cell_type": "markdown",
   "metadata": {},
   "source": [
    "### 4.3 工作经验需求分布 "
   ]
  },
  {
   "cell_type": "code",
   "execution_count": 25,
   "metadata": {},
   "outputs": [],
   "source": [
    "#工作经验分布\n",
    "group_experience = get_group(d,'experience')"
   ]
  },
  {
   "cell_type": "code",
   "execution_count": 26,
   "metadata": {},
   "outputs": [
    {
     "data": {
      "image/png": "[encoded data removed]",
      "text/plain": [
       "<Figure size 432x288 with 1 Axes>"
      ]
     },
     "metadata": {
      "needs_background": "light"
     },
     "output_type": "display_data"
    }
   ],
   "source": [
    "#获取工作经验分布图\n",
    "group_experience.plot.bar(x='experience',y='num',label = '数量',color = 'g')\n",
    "plt.xlabel('经验')\n",
    "plt.grid(True)\n",
    "plt.ylabel('经验需求数量')\n",
    "plt.title('工作经验需求分布')\n",
    "plt.show()"
   ]
  },
  {
   "cell_type": "markdown",
   "metadata": {},
   "source": [
    "公司对3-5年经验的数据分析需求量最大，相对的，对10年以上经验的需求相对来说少之又少，推测可能是3-5年的分析师对行业发展已经有了比较成熟的认知，完成足够胜任公司的分析需求，而10年以上的数据分析岗位人员可能已经对市场动向了如指掌，转为产品经理，故需求量上会少很多。"
   ]
  },
  {
   "cell_type": "markdown",
   "metadata": {},
   "source": [
    "### 4.4 薪资水平分布 "
   ]
  },
  {
   "cell_type": "code",
   "execution_count": 27,
   "metadata": {},
   "outputs": [],
   "source": [
    "#总体薪资分布\n",
    "group_salary = get_group(d,'salary')"
   ]
  },
  {
   "cell_type": "code",
   "execution_count": 28,
   "metadata": {},
   "outputs": [
    {
     "data": {
      "image/png": "[encoded data removed]",
      "text/plain": [
       "<Figure size 432x288 with 1 Axes>"
      ]
     },
     "metadata": {
      "needs_background": "light"
     },
     "output_type": "display_data"
    }
   ],
   "source": [
    "#绘制薪酬分布图\n",
    "group_salary.plot.bar(x='salary',y='num',label = '数量',color = 'g')\n",
    "plt.xlabel('薪资/K')\n",
    "plt.grid(True)\n",
    "plt.ylabel('薪资数量')\n",
    "plt.title('薪资分布')\n",
    "plt.show()"
   ]
  },
  {
   "cell_type": "markdown",
   "metadata": {},
   "source": [
    "从薪资水平上来看，数据分析的岗位所提供的薪资待遇还算是比较令人满意的"
   ]
  },
  {
   "cell_type": "markdown",
   "metadata": {},
   "source": [
    "### 4.5 公司融资情况分布"
   ]
  },
  {
   "cell_type": "code",
   "execution_count": 29,
   "metadata": {},
   "outputs": [],
   "source": [
    "#融资阶段\n",
    "group_finance_stage = get_group(d,'finance_stage')"
   ]
  },
  {
   "cell_type": "code",
   "execution_count": 30,
   "metadata": {},
   "outputs": [
    {
     "data": {
      "image/png": "[encoded data removed]",
      "text/plain": [
       "<Figure size 432x288 with 1 Axes>"
      ]
     },
     "metadata": {
      "needs_background": "light"
     },
     "output_type": "display_data"
    }
   ],
   "source": [
    "#绘制公司融资情况分布图\n",
    "group_finance_stage.plot.bar(x='finance_stage',y='num',label = '数量',color = 'g')\n",
    "plt.xlabel('融资阶段')\n",
    "plt.grid(True)\n",
    "plt.ylabel('各融资阶段数量')\n",
    "plt.title('公司融资情况分布')\n",
    "plt.show()"
   ]
  },
  {
   "cell_type": "markdown",
   "metadata": {},
   "source": [
    "从上图可以看出，初步发展的公司（天使轮）对数据分析的岗位需求量比较小，反之，发展成熟的公司对此岗位的需求量则很大。"
   ]
  },
  {
   "cell_type": "markdown",
   "metadata": {},
   "source": [
    "### 4.6 职业技能需求"
   ]
  },
  {
   "cell_type": "code",
   "execution_count": 31,
   "metadata": {},
   "outputs": [],
   "source": [
    "#定义获取职业技能文件函数\n",
    "def skill_list(key_skill):\n",
    "    f = open('key_skill.txt','a')\n",
    "    for i in key_skill:\n",
    "        f.writelines(i+u',')\n",
    "    f.close()"
   ]
  },
  {
   "cell_type": "code",
   "execution_count": 32,
   "metadata": {},
   "outputs": [],
   "source": [
    "d['key_skill'].map(skill_list)\n",
    "open_f = open('key_skill.txt','r').read() "
   ]
  },
  {
   "cell_type": "code",
   "execution_count": 33,
   "metadata": {},
   "outputs": [
    {
     "data": {
      "image/png": "[encoded data removed]",
      "text/plain": [
       "<Figure size 432x288 with 1 Axes>"
      ]
     },
     "metadata": {
      "needs_background": "light"
     },
     "output_type": "display_data"
    }
   ],
   "source": [
    "#img = np.array(Image.open('tree.jpg')) ，搭配from PIL import Image、import numpy as np使用\n",
    "img = imageio.imread('tree.jpg')         #读取图片\n",
    "#绘制云图\n",
    "my_wordcloud = WordCloud(\n",
    "            background_color='white',    # 设置背景颜色\n",
    "            max_words = 200,            # 设置最大现实的字数\n",
    "            mask = img,                 #设置背景图片\n",
    "            font_path = 'SimHei.ttf',  #设置字体路径，保证中文可以显示\n",
    "            stopwords = ['数据分析','数据库','数据','运营','商业','数据处理','风险'],      #剔除不需要显示的信息\n",
    "            max_font_size = 80,            # 设置字体最大值\n",
    "            random_state = 60,            # 设置有多少种随机生成状态，即有多少种配色方案\n",
    "            scale=5\n",
    "                ).generate(open_f)\n",
    "plt.imshow(my_wordcloud)\n",
    "plt.axis(\"off\")\n",
    "plt.show()"
   ]
  },
  {
   "cell_type": "markdown",
   "metadata": {},
   "source": [
    "从云图中可以看出，具备BI、SQL技能的话，对于求职数据分析岗位会有很大帮助，如果会使用SPSS，想必会锦上添花。"
   ]
  },
  {
   "cell_type": "markdown",
   "metadata": {},
   "source": [
    "通过定义薪资关系函数，获取薪资和其他列的函数关系数据"
   ]
  },
  {
   "cell_type": "code",
   "execution_count": 34,
   "metadata": {},
   "outputs": [],
   "source": [
    "#定义薪资关系函数\n",
    "def relation_salary(Df,cloumn,group):\n",
    "    relation_a =  Df.groupby(cloumn)['salary']\n",
    "    relation_list = []\n",
    "    for i in group.index:\n",
    "        relation_b = relation_a.get_group(i).values\n",
    "        relation_list.append(relation_b)\n",
    "    relationDf = pd.DataFrame( relation_list)\n",
    "    relationDf = pd.DataFrame(relationDf.values.T, index=relationDf.columns, columns=relationDf.index)\n",
    "    relationDf.columns = group.index\n",
    "    return relationDf"
   ]
  },
  {
   "cell_type": "markdown",
   "metadata": {},
   "source": [
    "### 4.7 城市-薪资关系 "
   ]
  },
  {
   "cell_type": "code",
   "execution_count": 35,
   "metadata": {},
   "outputs": [],
   "source": [
    "#城市-薪资\n",
    "city_salary = relation_salary(d,'city',group_city)"
   ]
  },
  {
   "cell_type": "code",
   "execution_count": 36,
   "metadata": {},
   "outputs": [
    {
     "data": {
      "image/png": "[encoded data removed]",
      "text/plain": [
       "<Figure size 432x288 with 1 Axes>"
      ]
     },
     "metadata": {
      "needs_background": "light"
     },
     "output_type": "display_data"
    }
   ],
   "source": [
    "#绘制城市-薪资箱形图\n",
    "city_salary.iloc[:,0:10].boxplot()    #城市偏多，仅取岗位最多的前10个城市数据绘制，靠后的城市薪酬数据偏少\n",
    "plt.xlabel('城市')\n",
    "plt.grid(True)\n",
    "plt.ylabel('薪资/K')\n",
    "plt.title('城市-薪资分布')\n",
    "plt.show()"
   ]
  },
  {
   "cell_type": "markdown",
   "metadata": {},
   "source": [
    "对比以上10座城市，一线城市中，上海对数据分析的岗位给出的薪资最高，北京次之；准一线城市中，苏州最大，杭州次之。但于我个人而言，就上图的薪资水平，从生活品质上来说，地上的天堂（苏杭），相对于上海、北京，更具有诱惑力。"
   ]
  },
  {
   "cell_type": "markdown",
   "metadata": {},
   "source": [
    "### 4.8 行业-薪资关系  "
   ]
  },
  {
   "cell_type": "code",
   "execution_count": 37,
   "metadata": {},
   "outputs": [],
   "source": [
    "#行业-薪资\n",
    "field_salary = relation_salary(d,'field',group_field)"
   ]
  },
  {
   "cell_type": "code",
   "execution_count": 38,
   "metadata": {},
   "outputs": [
    {
     "data": {
      "image/png": "[encoded data removed]",
      "text/plain": [
       "<Figure size 432x288 with 1 Axes>"
      ]
     },
     "metadata": {
      "needs_background": "light"
     },
     "output_type": "display_data"
    }
   ],
   "source": [
    "#绘制行业-薪资箱形图\n",
    "field_salary.iloc[:,0:10].boxplot()\n",
    "plt.xlabel('行业')\n",
    "plt.grid(True)\n",
    "plt.ylabel('薪资/K')\n",
    "plt.title('行业-薪资分布')\n",
    "plt.show()"
   ]
  },
  {
   "cell_type": "markdown",
   "metadata": {},
   "source": [
    "从行业-薪资关系来看，虽然电商和金融在数据分析岗位中占比最大，但薪资处于第二梯队，薪资待遇算不上最好的。最好的要属行业分布中处于第三梯度的文娱以及房产家居。"
   ]
  },
  {
   "cell_type": "markdown",
   "metadata": {},
   "source": [
    "### 4.9 经验-薪资关系 "
   ]
  },
  {
   "cell_type": "code",
   "execution_count": 39,
   "metadata": {},
   "outputs": [],
   "source": [
    "#经验-薪资\n",
    "experience_salary = relation_salary(d,'experience',group_experience)\n",
    "#变换列的顺序\n",
    "order = ['1年以下','1-3年','3-5年','5-10年','10年以上']\n",
    "experience_salary = experience_salary[order]"
   ]
  },
  {
   "cell_type": "code",
   "execution_count": 40,
   "metadata": {},
   "outputs": [
    {
     "data": {
      "image/png": "[encoded data removed]",
      "text/plain": [
       "<Figure size 432x288 with 1 Axes>"
      ]
     },
     "metadata": {
      "needs_background": "light"
     },
     "output_type": "display_data"
    }
   ],
   "source": [
    "#绘制经验-薪资箱形图\n",
    "experience_salary.boxplot()\n",
    "plt.xlabel('经验')\n",
    "plt.grid(True)\n",
    "plt.ylabel('薪资/K')\n",
    "plt.title('经验-薪资分布')\n",
    "plt.show()"
   ]
  },
  {
   "cell_type": "markdown",
   "metadata": {},
   "source": [
    "从上图可以发现比较符合常理的事情，就是随着经验的提升，个人所能够获得的薪资也会相应提高。"
   ]
  },
  {
   "cell_type": "code",
   "execution_count": 41,
   "metadata": {},
   "outputs": [
    {
     "data": {
      "text/plain": [
       "\"\\n定义函数前的原始code\\n#经验-薪酬\\nexperience_salary = d.groupby('experience')['salary']\\n\\nexperience_salary_list=[]\\nfor i in grouped_experience.index:\\n    a = experience_salary.get_group(i).values\\n    experience_salary_list.append(a)\\nexperience_salary_Df = pd.DataFrame(experience_salary_list)  \\n#experience_salary_Df\\n\\nexperience_salary_Df1 = pd.DataFrame(experience_salary_Df.values.T, index=experience_salary_Df.columns, columns=experience_salary_Df.index)\\nexperience_salary_Df1.columns = grouped_experience.index\\n#experience_salary_Df1\\n\\n#变换列的顺序\\norder = ['1年以下','1-3年','3-5年','5-10年','10年以上']\\nexperience_salary_Df1 = experience_salary_Df1[order]\\n#experience_salary_Df1\\n\\nexperience_salary_Df1.boxplot()\\nplt.grid(True)\\nplt.xlabel('经验')\\n#y坐标轴文本\\nplt.ylabel('薪酬')\\n#图片标题\\nplt.title('经验-薪酬分布')\\nplt.show()\\n\""
      ]
     },
     "execution_count": 41,
     "metadata": {},
     "output_type": "execute_result"
    }
   ],
   "source": [
    "'''\n",
    "定义函数前的原始code\n",
    "#经验-薪酬\n",
    "experience_salary = d.groupby('experience')['salary']\n",
    "\n",
    "experience_salary_list=[]\n",
    "for i in grouped_experience.index:\n",
    "    a = experience_salary.get_group(i).values\n",
    "    experience_salary_list.append(a)\n",
    "experience_salary_Df = pd.DataFrame(experience_salary_list)  \n",
    "#experience_salary_Df\n",
    "\n",
    "experience_salary_Df1 = pd.DataFrame(experience_salary_Df.values.T, index=experience_salary_Df.columns, columns=experience_salary_Df.index)\n",
    "experience_salary_Df1.columns = grouped_experience.index\n",
    "#experience_salary_Df1\n",
    "\n",
    "#变换列的顺序\n",
    "order = ['1年以下','1-3年','3-5年','5-10年','10年以上']\n",
    "experience_salary_Df1 = experience_salary_Df1[order]\n",
    "#experience_salary_Df1\n",
    "\n",
    "experience_salary_Df1.boxplot()\n",
    "plt.grid(True)\n",
    "plt.xlabel('经验')\n",
    "#y坐标轴文本\n",
    "plt.ylabel('薪酬')\n",
    "#图片标题\n",
    "plt.title('经验-薪酬分布')\n",
    "plt.show()\n",
    "'''"
   ]
  },
  {
   "cell_type": "markdown",
   "metadata": {},
   "source": [
    "### 4.10 融资阶段-薪资关系  "
   ]
  },
  {
   "cell_type": "code",
   "execution_count": 42,
   "metadata": {},
   "outputs": [],
   "source": [
    "#融资阶段-薪资\n",
    "finance_stage_salary = relation_salary(d,'finance_stage',group_finance_stage)\n",
    "#变换列的顺序\n",
    "order1 = ['不需要融资','未融资','天使轮','A轮','B轮','C轮','D轮及以上','上市公司']\n",
    "finance_stage_salary = finance_stage_salary[order1]"
   ]
  },
  {
   "cell_type": "code",
   "execution_count": 43,
   "metadata": {},
   "outputs": [
    {
     "data": {
      "image/png": "[encoded data removed]",
      "text/plain": [
       "<Figure size 432x288 with 1 Axes>"
      ]
     },
     "metadata": {
      "needs_background": "light"
     },
     "output_type": "display_data"
    }
   ],
   "source": [
    "#绘制融资阶段-薪资箱形图\n",
    "finance_stage_salary.boxplot()\n",
    "plt.xlabel('融资阶段')\n",
    "plt.grid(True)\n",
    "plt.ylabel('薪资/K')\n",
    "plt.title('融资阶段-薪资分布')\n",
    "plt.show()"
   ]
  },
  {
   "cell_type": "markdown",
   "metadata": {},
   "source": [
    "在爬取的招聘公司中，融资情况为D轮及以上的公司需求人员多，且提供薪资福利也最高，如果投递简历的话，选择D轮及以上的公司为最佳选择。"
   ]
  },
  {
   "cell_type": "markdown",
   "metadata": {},
   "source": [
    "## 结论 "
   ]
  },
  {
   "cell_type": "markdown",
   "metadata": {},
   "source": [
    "* 本次主要对城市岗位、行业、工作经验、薪资水平、公司融资情况以及职业技能进行了单独分析，可以了解到，数据分析岗位在一线城市发展成熟的公司需求量最大，准一线城市次之，主要集中在电商和金融行业，且公司都比较倾向于具有3-5年工作经验的分析师，且需要具备SQL、BI、SPSS等技能。\n",
    "* 随后还对影响薪资水平的若干因素（城市、行业、工作经验、融资阶段）进行了分析。可以发现，在城市方面，一线城市中，上海对数据分析的岗位给出的薪资最高，北京次之；准一线城市中，苏州最大，杭州次之；行业方面，虽然电商和金融在数据分析岗位中占比最大，但薪资处于第二梯队，薪资待遇算不上最好的。最好的要属行业分布中处于第三梯度的文娱以及房产家居；经验方面，随着经验的提升，个人所能够获得的薪资也会相应提高融资阶段方面；融资情况为D轮及以上的公司需求人员多，且提供薪资福利也最高，如果投递简历的话，选择D轮及以上的公司为最佳选择。\n",
    "* 综上所述，虽然准一线岗位需求量较少，但薪资水平还是比较高的，尤其是在环境比较好的苏杭，如果个人偏好于文娱、游戏方面，并有幸进入一家D轮及以上的相关公司，能够投身其中，长期积攒经验，那将是非常不错的选择！"
   ]
  }
 ],
 "metadata": {
  "kernelspec": {
   "display_name": "Python [conda env:py3]",
   "language": "python",
   "name": "conda-env-py3-py"
  },
  "language_info": {
   "codemirror_mode": {
    "name": "ipython",
    "version": 3
   },
   "file_extension": ".py",
   "mimetype": "text/x-python",
   "name": "python",
   "nbconvert_exporter": "python",
   "pygments_lexer": "ipython3",
   "version": "3.7.1"
  }
 },
 "nbformat": 4,
 "nbformat_minor": 2
}
